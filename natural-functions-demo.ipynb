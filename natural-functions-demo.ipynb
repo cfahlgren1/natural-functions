{
 "cells": [
  {
   "cell_type": "code",
   "execution_count": null,
   "metadata": {},
   "outputs": [],
   "source": [
    "%pip install langchain_openai langchain langchain_experimental ollama"
   ]
  },
  {
   "cell_type": "code",
   "execution_count": 71,
   "metadata": {},
   "outputs": [],
   "source": [
    "from langchain_core.utils.function_calling import convert_to_openai_function\n",
    "from langchain.pydantic_v1 import BaseModel, Field\n",
    "from langchain.tools import tool"
   ]
  },
  {
   "cell_type": "markdown",
   "metadata": {},
   "source": [
    "# Define your tools!\n",
    "\n",
    "For this we create a Langchain tool for retrieving weather information and use the `convert_to_openai_function` to create the function definition that we will feed into the model"
   ]
  },
  {
   "cell_type": "code",
   "execution_count": 67,
   "metadata": {},
   "outputs": [
    {
     "data": {
      "text/plain": [
       "[{'name': 'get_weather_tool',\n",
       "  'description': 'get_weather_tool(location: str) -> str - Get the current weather in a given location',\n",
       "  'parameters': {'type': 'object',\n",
       "   'properties': {'location': {'description': 'The city and state, e.g. San Francisco, CA',\n",
       "     'type': 'string'}},\n",
       "   'required': ['location']}}]"
      ]
     },
     "execution_count": 67,
     "metadata": {},
     "output_type": "execute_result"
    }
   ],
   "source": [
    "class SearchInput(BaseModel):\n",
    "    location: str = Field(description=\"The city and state, \" \"e.g. San Francisco, CA\")\n",
    "\n",
    "@tool(\"get_weather_tool\", args_schema=SearchInput)\n",
    "def get_current_weather(location: str) -> str:\n",
    "    \"\"\"Get the current weather in a given location\"\"\"\n",
    "    return {\"location\": location, \"fahrenheit\": 73.4}\n",
    "\n",
    "tools = [get_current_weather]\n",
    "functions = [convert_to_openai_function(t) for t in tools]\n",
    "\n",
    "functions"
   ]
  },
  {
   "cell_type": "markdown",
   "metadata": {},
   "source": [
    "# Invoke the Model\n",
    "\n",
    "Now we can prompt the model and pass the functions 🥳"
   ]
  },
  {
   "cell_type": "code",
   "execution_count": 69,
   "metadata": {},
   "outputs": [
    {
     "name": "stdout",
     "output_type": "stream",
     "text": [
      "\n",
      "You are a weather assistant with access to these functions -\n",
      "[\n",
      "    {\n",
      "        \"name\": \"get_weather_tool\",\n",
      "        \"description\": \"get_weather_tool(location: str) -> str - Get the current weather in a given location\",\n",
      "        \"parameters\": {\n",
      "            \"type\": \"object\",\n",
      "            \"properties\": {\n",
      "                \"location\": {\n",
      "                    \"description\": \"The city and state, e.g. San Francisco, CA\",\n",
      "                    \"type\": \"string\"\n",
      "                }\n",
      "            },\n",
      "            \"required\": [\n",
      "                \"location\"\n",
      "            ]\n",
      "        }\n",
      "    }\n",
      "]\n",
      "\n"
     ]
    }
   ],
   "source": [
    "import ollama\n",
    "import json\n",
    "\n",
    "SYSTEM_PROMPT = f\"\"\"\n",
    "You are a weather assistant with access to these functions -\n",
    "{json.dumps(functions, indent=4)}\n",
    "\"\"\"\n",
    "\n",
    "print (SYSTEM_PROMPT)"
   ]
  },
  {
   "cell_type": "code",
   "execution_count": 122,
   "metadata": {},
   "outputs": [],
   "source": [
    "import json\n",
    "import re\n",
    "from typing import Optional, Dict\n",
    "\n",
    "def parse_function_call(input_str: str) -> Optional[Dict[str, any]]:\n",
    "    \"\"\"\n",
    "    Parses a text string to find and extract a function call.\n",
    "    The function call is expected to be in the format:\n",
    "    <functioncall> {\"name\": \"<function_name>\", \"arguments\": \"<arguments_json_string>\"}\n",
    "\n",
    "    Args:\n",
    "        input_str (str): The text containing the function call.\n",
    "\n",
    "    Returns:\n",
    "        Optional[Dict[str, any]]: A dictionary with 'name' and 'arguments' if a function call is found,\n",
    "                                  otherwise None.\n",
    "    \"\"\"\n",
    "    # Regex pattern to extract 'name' and 'arguments'\n",
    "    pattern = r'\"name\":\\s*\"([^\"]+)\",\\s*\"arguments\":\\s*\\'(.*?)\\''\n",
    "\n",
    "    # Search with regex\n",
    "    match = re.search(pattern, input_str)\n",
    "    if match:\n",
    "        try:\n",
    "            name = match.group(1)\n",
    "            arguments_str = match.group(2)\n",
    "\n",
    "            # Parse the arguments JSON\n",
    "            arguments = json.loads(arguments_str)\n",
    "\n",
    "            return {\"name\": name, \"arguments\": arguments}\n",
    "        except json.JSONDecodeError:\n",
    "            # If JSON parsing fails, return None\n",
    "            return None\n",
    "    return None\n"
   ]
  },
  {
   "cell_type": "code",
   "execution_count": 153,
   "metadata": {},
   "outputs": [],
   "source": [
    "messages = [\n",
    "     {'role': 'system','content': SYSTEM_PROMPT}, \n",
    "     {'role': 'user','content': 'What is the weather like in the Dallas, TX?'},\n",
    "]\n",
    "\n",
    "response = ollama.chat(model='natural-functions', messages=messages)\n",
    "message = (response['message']['content'])"
   ]
  },
  {
   "cell_type": "code",
   "execution_count": 154,
   "metadata": {},
   "outputs": [
    {
     "data": {
      "text/plain": [
       "'<functioncall> {\"name\": \"get_weather_tool\", \"arguments\": \\'{\"location\": \"Dallas, TX\"}\\'}'"
      ]
     },
     "execution_count": 154,
     "metadata": {},
     "output_type": "execute_result"
    }
   ],
   "source": [
    "message"
   ]
  },
  {
   "cell_type": "markdown",
   "metadata": {},
   "source": [
    "# Call the Function\n",
    "\n",
    "Here we pull the function out of `kwargs` and call our tool with the arguments"
   ]
  },
  {
   "cell_type": "code",
   "execution_count": 155,
   "metadata": {},
   "outputs": [
    {
     "data": {
      "text/plain": [
       "{'location': 'Dallas, TX', 'fahrenheit': 73.4}"
      ]
     },
     "execution_count": 155,
     "metadata": {},
     "output_type": "execute_result"
    }
   ],
   "source": [
    "messages.append({'role': 'assistant', 'content': message}) # add ai response to history\n",
    "\n",
    "function_call = parse_function_call(message) # parse out function call name and args into json\n",
    "\n",
    "if function_call and function_call.get(\"name\") == \"get_weather_tool\":\n",
    "    args = function_call.get(\"arguments\")\n",
    "    current_weather = get_current_weather.run(args)\n",
    "\n",
    "current_weather"
   ]
  },
  {
   "cell_type": "code",
   "execution_count": 156,
   "metadata": {},
   "outputs": [
    {
     "data": {
      "text/plain": [
       "[{'role': 'system',\n",
       "  'content': '\\nYou are a weather assistant with access to these functions -\\n[\\n    {\\n        \"name\": \"get_weather_tool\",\\n        \"description\": \"get_weather_tool(location: str) -> str - Get the current weather in a given location\",\\n        \"parameters\": {\\n            \"type\": \"object\",\\n            \"properties\": {\\n                \"location\": {\\n                    \"description\": \"The city and state, e.g. San Francisco, CA\",\\n                    \"type\": \"string\"\\n                }\\n            },\\n            \"required\": [\\n                \"location\"\\n            ]\\n        }\\n    }\\n]\\n'},\n",
       " {'role': 'user', 'content': 'What is the weather like in the Dallas, TX?'},\n",
       " {'role': 'assistant',\n",
       "  'content': '<functioncall> {\"name\": \"get_weather_tool\", \"arguments\": \\'{\"location\": \"Dallas, TX\"}\\'}'},\n",
       " {'role': 'user',\n",
       "  'content': \"Function Response: {'location': 'Dallas, TX', 'fahrenheit': 73.4}\"}]"
      ]
     },
     "execution_count": 156,
     "metadata": {},
     "output_type": "execute_result"
    }
   ],
   "source": [
    "messages.append({'role': 'user', 'content': 'Function Response: ' + str(current_weather)})\n",
    "messages"
   ]
  },
  {
   "cell_type": "code",
   "execution_count": 157,
   "metadata": {},
   "outputs": [
    {
     "data": {
      "text/plain": [
       "'The current weather in Dallas, TX is sunny and the temperature is around 73.4 degrees Fahrenheit'"
      ]
     },
     "execution_count": 157,
     "metadata": {},
     "output_type": "execute_result"
    }
   ],
   "source": [
    "response = ollama.chat(model='natural-functions', messages=messages)\n",
    "response['message']['content']"
   ]
  }
 ],
 "metadata": {
  "kernelspec": {
   "display_name": "Python 3",
   "language": "python",
   "name": "python3"
  },
  "language_info": {
   "codemirror_mode": {
    "name": "ipython",
    "version": 3
   },
   "file_extension": ".py",
   "mimetype": "text/x-python",
   "name": "python",
   "nbconvert_exporter": "python",
   "pygments_lexer": "ipython3",
   "version": "3.10.7"
  }
 },
 "nbformat": 4,
 "nbformat_minor": 2
}
